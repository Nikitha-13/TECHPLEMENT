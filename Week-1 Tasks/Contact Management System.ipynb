
import json

def load_contacts():
    try:
        with open("contacts.json", "r") as file:
            contacts = json.load(file)
    except FileNotFoundError:
        contacts = {}
    return contacts

def save_contacts(contacts):
    with open("contacts.json", "w") as file:
        json.dump(contacts, file)

def add_contact(contacts, name, phone, email):
    contacts[name] = {"Phone": phone, "Email": email}
    save_contacts(contacts)
    print(f"Contact '{name}' added successfully!")

def search_contact(contacts, name):
    if name in contacts:
        contact_info = contacts[name]
        print(f"Contact Found - Name: {name}, Phone: {contact_info['Phone']}, Email: {contact_info['Email']}")
    else:
        print(f"Contact '{name}' not found!")

def update_contact(contacts, name, phone, email):
    if name in contacts:
        contacts[name]["Phone"] = phone
        contacts[name]["Email"] = email
        save_contacts(contacts)
        print(f"Contact '{name}' updated successfully!")
    else:
        print(f"Contact '{name}' not found!")

def main():
    contacts = load_contacts()

    while True:
        print("\nContact Management System Menu:")
        print("1. Add Conatct")
        print("2. Search Contact")
        print("3. Update Contact")
        print("4. Exit")

        choice = input("Enter your choice (1-4): ")

        if choice == "1":
            name = input("Enter name: ")
            phone = input("Enter phone number: ")
            email = input("Enter email address: ")
            add_contact(contacts, name, phone, email)

        elif choice == "2":
            name = input("Enter name to search: ")
            search_contact(contacts, name)

        elif choice == "3":
            name = input("Enter name to update: ")
            phone = input("Enter new phone number: ")
            
            email = input("Enter new email address: ")
            update_contact(contacts, name, phone, email)

        elif choice == "4":
            print("Exiting Contact Management System. Goodbye!")
            break
        
        else:
            print("Invalid choice. Please enter a number between 1 and 4.")

if __name__ == "__main__":
    main()
